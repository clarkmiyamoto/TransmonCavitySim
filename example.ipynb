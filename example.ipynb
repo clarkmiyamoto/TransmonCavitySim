{
 "cells": [
  {
   "cell_type": "code",
   "execution_count": null,
   "metadata": {},
   "outputs": [],
   "source": []
  },
  {
   "cell_type": "markdown",
   "metadata": {},
   "source": [
    "# Analyzing a Transmon + Cavity System\n",
    "\n",
    "Today, I'll be showing you how to compare a Transmon & Cavity simulation to experimental data using `Qiskit-Metal`. Our process is as follows:\n",
    "\n",
    "1. Retrieve experimental `Lj_exp` value corresponding to the design device\n",
    "2. Create design using Qiskit Metal\n",
    "3. Extract eigenfrequencies & anharmonicity from `qiskit_metal.<...>.EPRanalysis` through eigenmodal simulation\n",
    "4. Extract capacitance matrix from `qiskit_metal.<...>.LOManalysis`\n",
    "5. Use qubit frequency, cavity frequency, anharmonicity, and capacitance matricies to calculate $g$ and $\\chi$"
   ]
  },
  {
   "cell_type": "markdown",
   "metadata": {},
   "source": [
    "## Step 1. Experimental $L_J$"
   ]
  },
  {
   "cell_type": "code",
   "execution_count": null,
   "metadata": {},
   "outputs": [],
   "source": [
    "import numpy as np\n",
    "\n",
    "def find_Lj_from_qubitfreq_anharm(qubit_freq: float, qubit_anharmonicity: float) -> float:\n",
    "    \"\"\"\n",
    "    Extract $L_J$ from the qubit frequency & anharmonicity.\n",
    "\n",
    "    Args:\n",
    "        qubit_freq: Transition frequenc from ground to first excited state. Units are linear GHz.\n",
    "        Qubit_anharmonicity: Qubit anharmonicity. Units are linear GHz.\n",
    "\n",
    "    Returns:\n",
    "        LJ: Units are Nano-Henries.\n",
    "    \"\"\"\n",
    "    import scqubits as scq\n",
    "    from scqubits.core.transmon import TunableTransmon\n",
    "\n",
    "    scq.set_units(\"GHz\")\n",
    "\n",
    "    Phi_0 = 2.067833848E-15\n",
    "    h = 6.62607015E-34\n",
    "\n",
    "    EJ, EC = TunableTransmon.find_EJ_EC(E01=qubit_freq, anharmonicity=qubit_anharmonicity, ncut=30)\n",
    "    LJ = (Phi_0/ (2 * np.pi))**2 / (EJ * h)\n",
    "\n",
    "    print('From scQubits')\n",
    "    print(f\"E_J = {EJ:0.3f} Linear GHz\")\n",
    "    print(f\"L_J = {LJ:0.3f} nH\")\n",
    "\n",
    "    return LJ"
   ]
  },
  {
   "cell_type": "code",
   "execution_count": null,
   "metadata": {},
   "outputs": [],
   "source": [
    "exp_qubit_freq          =  3.715 # GHz\n",
    "exp_qubit_anharmonicity = -0.150 # GHz # Don't forget the negative sign!\n",
    "\n",
    "Lj_exp = find_Lj_from_qubitfreq_anharm(\n",
    "    qubit_freq=exp_qubit_freq, \n",
    "    qubit_anharmonicity=exp_qubit_anharmonicity\n",
    ")  # nH"
   ]
  },
  {
   "cell_type": "markdown",
   "metadata": {},
   "source": [
    "You'll take this experimental $L_J$ and put it into your Qiskit Metal design. Specifically in...\n",
    "\n",
    "```\n",
    "design.components[<qubit name>].options.hfss_inductance = str(Lj_exp) + \"nH\"\n",
    "design.components[<qubit name>].options.q3d_inductance  = str(Lj_exp) + \"nH\"\n",
    "```\n",
    "\n",
    "Remeber the inductance options want a value which looks similar to...\n",
    "- `\"9nH\"`\n",
    "- `\"9 nH\"`\n",
    "- `\"9.123nH\"`\n",
    "- `\"9.123 nH`\n",
    "- etc.\n"
   ]
  },
  {
   "cell_type": "markdown",
   "metadata": {},
   "source": [
    "## Step 2. Create Design in Qiskit Metal\n",
    "\n",
    "Here I outline a simple Transmon Cross coupled to readout cavity"
   ]
  },
  {
   "cell_type": "code",
   "execution_count": null,
   "metadata": {},
   "outputs": [],
   "source": [
    "### Insert qiskit metal design\n",
    "design = Planar(...)\n",
    "\n",
    "qubit_name = ...\n",
    "cpw_name = ...\n",
    "connector_pad_name = ...\n",
    "feedline_name = ...\n",
    "\n",
    "\n",
    "### Copy & paste design below\n",
    "\n",
    "\n"
   ]
  },
  {
   "cell_type": "markdown",
   "metadata": {},
   "source": [
    "# 3. Using `AnsysQiskitMetal` to run a Simulation"
   ]
  },
  {
   "cell_type": "code",
   "execution_count": null,
   "metadata": {},
   "outputs": [],
   "source": [
    "from ansys_qiskitmetal import AnsysQiskitMetal"
   ]
  },
  {
   "cell_type": "code",
   "execution_count": null,
   "metadata": {},
   "outputs": [],
   "source": [
    "ansys = AnsysQiskitMetal(\n",
    "    design,\n",
    "    qubit_name=qubit_name,\n",
    "    connector_pad_name=connector_pad_name,\n",
    "    cpws_names=[cpw_name],\n",
    "    feedline_name=feedline_name\n",
    ")"
   ]
  },
  {
   "cell_type": "code",
   "execution_count": null,
   "metadata": {},
   "outputs": [],
   "source": [
    "ansys.get_EigenModes()"
   ]
  },
  {
   "cell_type": "code",
   "execution_count": null,
   "metadata": {},
   "outputs": [],
   "source": [
    "ansys.get_EPR()"
   ]
  },
  {
   "cell_type": "code",
   "execution_count": null,
   "metadata": {},
   "outputs": [],
   "source": [
    "ansys.get_CapMatirx()"
   ]
  },
  {
   "cell_type": "markdown",
   "metadata": {},
   "source": [
    "from Anssy"
   ]
  }
 ],
 "metadata": {
  "language_info": {
   "name": "python"
  },
  "orig_nbformat": 4
 },
 "nbformat": 4,
 "nbformat_minor": 2
}
