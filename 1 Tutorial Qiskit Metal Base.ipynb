{
 "cells": [
  {
   "cell_type": "markdown",
   "metadata": {},
   "source": [
    "# Analyzing a Transmon + Cavity System\n",
    "\n",
    "Today, I'll be showing you how to compare a Transmon & Cavity simulation to experimental data using the default renderers on `Qiskit-Metal`. Our process is as follows:\n",
    "\n",
    "1. Retrieve experimental `Lj_exp` value corresponding to the design device\n",
    "2. Create design using Qiskit Metal\n",
    "3. Extract eigenfrequencies & anharmonicity from `qiskit_metal.<...>.EPRanalysis` through eigenmodal simulation\n",
    "4. Extract capacitance matrix from `qiskit_metal.<...>.LOManalysis`\n",
    "5. Use qubit frequency, cavity frequency, anharmonicity, and capacitance matricies to calculate $g$ and $\\chi$"
   ]
  },
  {
   "cell_type": "markdown",
   "metadata": {},
   "source": [
    "## Step 1. Experimental $L_J$"
   ]
  },
  {
   "cell_type": "code",
   "execution_count": null,
   "metadata": {},
   "outputs": [],
   "source": [
    "import numpy as np\n",
    "\n",
    "def find_Lj_from_qubitfreq_anharm(qubit_freq: float, qubit_anharmonicity: float) -> float:\n",
    "    \"\"\"\n",
    "    Extract $L_J$ from the qubit frequency & anharmonicity.\n",
    "\n",
    "    Args:\n",
    "        qubit_freq: Transition frequenc from ground to first excited state. Units are linear GHz.\n",
    "        Qubit_anharmonicity: Qubit anharmonicity. Units are linear GHz.\n",
    "\n",
    "    Returns:\n",
    "        LJ: Units are Nano-Henries.\n",
    "    \"\"\"\n",
    "    import scqubits as scq\n",
    "    from scqubits.core.transmon import TunableTransmon\n",
    "\n",
    "    scq.set_units(\"GHz\")\n",
    "\n",
    "    Phi_0 = 2.067833848E-15\n",
    "    h = 6.62607015E-34\n",
    "\n",
    "    EJ, EC = TunableTransmon.find_EJ_EC(E01=qubit_freq, anharmonicity=qubit_anharmonicity, ncut=30)\n",
    "    LJ = (Phi_0/ (2 * np.pi))**2 / (EJ * h)\n",
    "\n",
    "    print('From scQubits')\n",
    "    print(f\"E_J = {EJ:0.3f} Linear GHz\")\n",
    "    print(f\"L_J = {LJ:0.3f} nH\")\n",
    "\n",
    "    return LJ"
   ]
  },
  {
   "cell_type": "code",
   "execution_count": null,
   "metadata": {},
   "outputs": [],
   "source": [
    "exp_qubit_freq          =  3.715 # GHz\n",
    "exp_qubit_anharmonicity = -0.150 # GHz # Don't forget the negative sign!\n",
    "\n",
    "Lj_exp = find_Lj_from_qubitfreq_anharm(\n",
    "    qubit_freq=exp_qubit_freq, \n",
    "    qubit_anharmonicity=exp_qubit_anharmonicity\n",
    ")  # nH"
   ]
  },
  {
   "cell_type": "markdown",
   "metadata": {},
   "source": [
    "You'll take this experimental $L_J$ and put it into your Qiskit Metal design. Specifically in...\n",
    "\n",
    "```\n",
    "design.components[<qubit name>].options.hfss_inductance = str(Lj_exp) + \"nH\"\n",
    "design.components[<qubit name>].options.q3d_inductance  = str(Lj_exp) + \"nH\"\n",
    "```\n",
    "\n",
    "Remeber the inductance options want a value which looks similar to...\n",
    "- `\"9nH\"`\n",
    "- `\"9 nH\"`\n",
    "- `\"9.123nH\"`\n",
    "- `\"9.123 nH`\n",
    "- etc.\n"
   ]
  },
  {
   "cell_type": "markdown",
   "metadata": {},
   "source": [
    "## Step 2. Create Design in Qiskit Metal\n",
    "\n",
    "Here I outline a simple Transmon Cross coupled to readout cavity"
   ]
  },
  {
   "cell_type": "code",
   "execution_count": 1,
   "metadata": {},
   "outputs": [],
   "source": [
    "qubit_name = 'qubit'\n",
    "connection_pad_name = 'readout'\n",
    "cavity_name = 'cavity'\n",
    "feedline_name = 'clt'"
   ]
  },
  {
   "cell_type": "code",
   "execution_count": null,
   "metadata": {},
   "outputs": [],
   "source": [
    "%load_ext autoreload\n",
    "%autoreload 2\n",
    "from qiskit_metal import draw, Dict, designs, MetalGUI\n",
    "from qiskit_metal.toolbox_metal import math_and_overrides\n",
    "from qiskit_metal.qlibrary.core import QComponent\n",
    "import qiskit_metal as metal\n",
    "# ?metal.qlibrary.core.QComponent.add_qgeometry\n",
    "\n",
    "design = metal.designs.design_planar.DesignPlanar()\n",
    "gui = metal.MetalGUI(design)\n",
    "design.overwrite_enabled = True\n",
    "\n",
    "# dir(QComponent)\n",
    "cpw_width = '11.7um'\n",
    "\n",
    "design._chips.main.size.size_x = '5mm'\n",
    "design._chips.main.size.size_y = '5mm'\n",
    "from qiskit_metal.qlibrary.terminations.launchpad_wb import LaunchpadWirebond\n",
    "from qiskit_metal.qlibrary.terminations.short_to_ground import ShortToGround\n",
    "from qiskit_metal.qlibrary.tlines.straight_path import RouteStraight\n",
    "from qiskit_metal.qlibrary.tlines.anchored_path import RouteAnchors\n",
    "from qiskit_metal.qlibrary.tlines.mixed_path import RouteMixed\n",
    "from qiskit_metal.qlibrary.qubits.transmon_cross import TransmonCross\n",
    "from qiskit_metal.qlibrary.tlines.meandered import RouteMeander\n",
    "from qiskit_metal.qlibrary.terminations.open_to_ground import OpenToGround\n",
    "from qiskit_metal.qlibrary.couplers.coupled_line_tee import CoupledLineTee\n",
    "from qiskit_metal.qlibrary.couplers.cap_n_interdigital_tee import CapNInterdigitalTee\n",
    "from qiskit_metal.qlibrary.couplers.line_tee import LineTee\n",
    "\n",
    "from collections import OrderedDict\n",
    "\n",
    "import numpy as np\n",
    "xmon1_options = dict(\n",
    "    connection_pads={\n",
    "        connection_pad_name : dict(\n",
    "            connector_location = '90', \n",
    "            connector_type = '0', \n",
    "            claw_length = '215um',\n",
    "            ground_spacing = '10um', \n",
    "            claw_gap = '5.1um', \n",
    "            claw_width = '15um',\n",
    "            claw_cpw_length = 0\n",
    "        ),\n",
    "    },\n",
    "    cross_width = '30um',\n",
    "    cross_length = '240um',\n",
    "    cross_gap = '30um',\n",
    "    orientation = '-90',\n",
    "    pos_x = '-1500um',\n",
    "    pos_y = '1200um',\n",
    "    aedt_hfss_inductance = 10.60932E-9\n",
    ")\n",
    "\n",
    "# Create a new Transmon Cross object with name 'Q1'\n",
    "q1 = TransmonCross(design, qubit_name, options=xmon1_options)\n",
    "\n",
    "clt1_opts = Dict(prime_width = cpw_width,\n",
    "                prime_gap = '5.1um',\n",
    "                second_width = cpw_width,\n",
    "                second_gap = '5.1um',\n",
    "                coupling_space = '7.9um',\n",
    "                coupling_length = '225um',\n",
    "                open_termination = False,\n",
    "                orientation = '-90',\n",
    "                pos_y = '1200um',\n",
    "                down_length = '50um')\n",
    "\n",
    "clt1 = CoupledLineTee(design, feedline_name, clt1_opts)\n",
    "\n",
    "cpw_total_length = 5160 + 716 + 300 + 1881.18568\n",
    "cpw_total_length = str(cpw_total_length) + 'um'\n",
    "cpw1_opts = Dict(pin_inputs = Dict(start_pin = Dict(component = feedline_name,\n",
    "                                                    pin = 'second_end'),\n",
    "                                   end_pin = Dict(component = qubit_name,\n",
    "                                                  pin = connection_pad_name)),\n",
    "                lead = Dict(end_straight = '70um',\n",
    "                            # start_jogged_extension = jogsS),\n",
    "                ),\n",
    "                fillet = '49.9um',\n",
    "                total_length = '3900um',#'3893.8166um', # '6776um',\n",
    "                trace_width = cpw_width,\n",
    "                meander = Dict(spacing = '100um',\n",
    "                               asymmetry = '-150um'),\n",
    "                trace_gap = '5.1um',)\n",
    "cpw1 = RouteMeander(design, cavity_name, options = cpw1_opts)\n",
    "\n",
    "gui.rebuild()\n",
    "gui.zoom_on_components([qubit_name, cavity_name, feedline_name])\n",
    "gui.screenshot()"
   ]
  },
  {
   "cell_type": "markdown",
   "metadata": {},
   "source": [
    "# 3. Using `AnsysQiskitMetal`"
   ]
  },
  {
   "cell_type": "code",
   "execution_count": null,
   "metadata": {},
   "outputs": [],
   "source": [
    "from ansys_qiskitmetal import AnsysQiskitMetal\n",
    "\n",
    "ansys = AnsysQiskitMetal(\n",
    "    design,\n",
    "    qubit_name=qubit_name,\n",
    "    connection_pad_name=connection_pad_name,\n",
    "    cpws_names=[cavity_name],\n",
    "    feedline_name=feedline_name\n",
    ")"
   ]
  },
  {
   "cell_type": "markdown",
   "metadata": {},
   "source": [
    "## Simulations"
   ]
  },
  {
   "cell_type": "markdown",
   "metadata": {},
   "source": [
    "### Run ANSYS -> HFSS -> Eigenmode Simulation to get the Classical Mode Frequencies."
   ]
  },
  {
   "cell_type": "code",
   "execution_count": null,
   "metadata": {},
   "outputs": [],
   "source": [
    "ansys.run_EigenModes(max_passes = 1)"
   ]
  },
  {
   "cell_type": "markdown",
   "metadata": {},
   "source": [
    "### Run Energy Participation Ratio Analysis on Eigenmode Simulation"
   ]
  },
  {
   "cell_type": "code",
   "execution_count": null,
   "metadata": {},
   "outputs": [],
   "source": [
    "ansys.run_EPR()\n",
    "epr_results = ansys._parse_EPR()"
   ]
  },
  {
   "cell_type": "markdown",
   "metadata": {},
   "source": [
    "### Run ANSYS -> Q3D Simulation to get the Capacitance Matrix"
   ]
  },
  {
   "cell_type": "code",
   "execution_count": null,
   "metadata": {},
   "outputs": [],
   "source": [
    "ansys.run_CapMatirx()"
   ]
  },
  {
   "cell_type": "markdown",
   "metadata": {},
   "source": [
    "## Parse Results\n",
    "\n",
    "We can view all the results of the simulation by running `_parse_all_results()`"
   ]
  },
  {
   "cell_type": "code",
   "execution_count": null,
   "metadata": {},
   "outputs": [],
   "source": [
    "ansys._parse_all_results(print_result=True)"
   ]
  },
  {
   "cell_type": "markdown",
   "metadata": {},
   "source": [
    "We can also view the results by viewing the attributes of `AnsysQiskitMetal`"
   ]
  },
  {
   "cell_type": "code",
   "execution_count": null,
   "metadata": {},
   "outputs": [],
   "source": [
    "print(ansys.qubit_freq)\n",
    "print(ansys.cavity_freq)\n",
    "print(ansys.anharmonicity)\n",
    "print(ansys.dispersive_shift)\n",
    "print(ansys.coupling_strength)"
   ]
  }
 ],
 "metadata": {
  "kernelspec": {
   "display_name": "Python 3 (ipykernel)",
   "language": "python",
   "name": "python3"
  },
  "language_info": {
   "codemirror_mode": {
    "name": "ipython",
    "version": 3
   },
   "file_extension": ".py",
   "mimetype": "text/x-python",
   "name": "python",
   "nbconvert_exporter": "python",
   "pygments_lexer": "ipython3",
   "version": "3.10.8"
  }
 },
 "nbformat": 4,
 "nbformat_minor": 2
}
